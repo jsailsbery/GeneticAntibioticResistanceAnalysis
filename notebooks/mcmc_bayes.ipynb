{
 "cells": [
  {
   "cell_type": "code",
   "execution_count": 1,
   "id": "4c845f92-0d83-48ea-8b6c-fee9a8fd0a7c",
   "metadata": {},
   "outputs": [],
   "source": [
    "#pip install theano-pymc"
   ]
  },
  {
   "cell_type": "code",
   "execution_count": 2,
   "id": "fa75fd8c-f492-4638-ab77-52d973bb5d5f",
   "metadata": {},
   "outputs": [],
   "source": [
    "#pip uninstall -y theano"
   ]
  },
  {
   "cell_type": "code",
   "execution_count": 3,
   "id": "42497d1f-6183-43c6-a48e-58fec0ed560b",
   "metadata": {},
   "outputs": [],
   "source": [
    "#pip install pymc"
   ]
  },
  {
   "cell_type": "code",
   "execution_count": 4,
   "id": "ac72ecc3-e60e-4c28-b77c-f6da0bcdc140",
   "metadata": {},
   "outputs": [
    {
     "name": "stderr",
     "output_type": "stream",
     "text": [
      "WARNING (pytensor.configdefaults): g++ not detected!  PyTensor will be unable to compile C-implementations and will default to Python. Performance may be severely degraded. To remove this warning, set PyTensor flags cxx to an empty string.\n",
      "WARNING (pytensor.tensor.blas): Using NumPy C-API based implementation for BLAS functions.\n"
     ]
    }
   ],
   "source": [
    "import sys\n",
    "import pandas as pd\n",
    "import pymc as pm\n",
    "import numpy as np\n",
    "import matplotlib.pyplot as plt\n",
    "\n",
    "sys.path.append('functions')\n",
    "from data_frame_handler import DataFrameHandler as dfh\n",
    "\n",
    "# main path to file with data. Can be easily changed\n",
    "file_path = 'data/urine_test_data.csv'"
   ]
  },
  {
   "cell_type": "markdown",
   "id": "a149b7e6-7364-4465-b7d3-dc9a6a27be76",
   "metadata": {},
   "source": [
    "Step 0: Data prep"
   ]
  },
  {
   "cell_type": "code",
   "execution_count": 5,
   "id": "edc1ce40-8811-4930-8cad-823dc4d32746",
   "metadata": {},
   "outputs": [],
   "source": [
    "df = dfh.read_csv_data(file_path)\n",
    "\n",
    "# Use a list comprehension to dynamically select matching columns\n",
    "organisms = dfh.select_columns_by_search_terms(df, ['organism'])\n",
    "genes = dfh.select_columns_by_search_terms(df, ['gene'])\n",
    "antibiotics = dfh.select_columns_by_search_terms(df, ['antibiotic'])\n",
    "\n",
    "# Set the 'Type' column to the values in gene_data_str - FUTURE Labels\n",
    "gene_data_str = df[genes].applymap(str).agg(''.join, axis=1)\n",
    "df['Type'] = gene_data_str"
   ]
  },
  {
   "cell_type": "code",
   "execution_count": 6,
   "id": "d467175c-90f2-43f5-92ef-22b710b2e531",
   "metadata": {},
   "outputs": [],
   "source": [
    "# Get a colormap based on the number of unique 'Type' values\n",
    "geneset_unique_types = df['Type'].unique()\n",
    "num_unique_types = len(geneset_unique_types)\n",
    "cmap = plt.get_cmap('tab20', num_unique_types)\n",
    "\n",
    "# Create a mapping of 'Type' values to colors\n",
    "type_colors = {type_value: cmap(i) for i, type_value in enumerate(geneset_unique_types)}\n",
    "\n",
    "# Map 'Type' values to colors in a new Series\n",
    "type_colors_series = df['Type'].map(type_colors)"
   ]
  },
  {
   "cell_type": "markdown",
   "id": "79380d29-e3bf-4573-ae5e-a5164d45e8ca",
   "metadata": {},
   "source": [
    "Select subset of data to investigate\n",
    "['Organism_1', 'Organism_2', 'Organism_3']\n",
    "['Antibiotic_1', 'Antibiotic_2', 'Antibiotic_3']"
   ]
  },
  {
   "cell_type": "code",
   "execution_count": 7,
   "id": "76a219b1-f5f4-46ad-b1ec-a07cd816edc0",
   "metadata": {},
   "outputs": [],
   "source": [
    "organisms = dfh.select_columns_by_search_terms(df, ['Organism_1', 'Organism_2', 'Organism_3'] )\n",
    "antibiotics = dfh.select_columns_by_search_terms(df, ['Antibiotic_1', 'Antibiotic_2', 'Antibiotic_3'])\n",
    "\n"
   ]
  },
  {
   "cell_type": "code",
   "execution_count": null,
   "id": "baafe9c8-ae0f-46aa-9889-88288eeea99d",
   "metadata": {},
   "outputs": [
    {
     "name": "stderr",
     "output_type": "stream",
     "text": [
      "Auto-assigning NUTS sampler...\n",
      "Initializing NUTS using jitter+adapt_diag...\n",
      "Multiprocess sampling (2 chains in 2 jobs)\n",
      "NUTS: [alpha, beta, sigma]\n"
     ]
    },
    {
     "data": {
      "text/html": [
       "\n",
       "<style>\n",
       "    /* Turns off some styling */\n",
       "    progress {\n",
       "        /* gets rid of default border in Firefox and Opera. */\n",
       "        border: none;\n",
       "        /* Needs to be in here for Safari polyfill so background images work as expected. */\n",
       "        background-size: auto;\n",
       "    }\n",
       "    progress:not([value]), progress:not([value])::-webkit-progress-bar {\n",
       "        background: repeating-linear-gradient(45deg, #7e7e7e, #7e7e7e 10px, #5c5c5c 10px, #5c5c5c 20px);\n",
       "    }\n",
       "    .progress-bar-interrupted, .progress-bar-interrupted::-webkit-progress-bar {\n",
       "        background: #F44336;\n",
       "    }\n",
       "</style>\n"
      ],
      "text/plain": [
       "<IPython.core.display.HTML object>"
      ]
     },
     "metadata": {},
     "output_type": "display_data"
    },
    {
     "data": {
      "text/html": [
       "\n",
       "    <div>\n",
       "      <progress value='4893' class='' max='6000' style='width:300px; height:20px; vertical-align: middle;'></progress>\n",
       "      81.55% [4893/6000 07:10&lt;01:37 Sampling 2 chains, 0 divergences]\n",
       "    </div>\n",
       "    "
      ],
      "text/plain": [
       "<IPython.core.display.HTML object>"
      ]
     },
     "metadata": {},
     "output_type": "display_data"
    },
    {
     "name": "stderr",
     "output_type": "stream",
     "text": [
      "/usr/local/lib/python3.8/site-packages/pytensor/scalar/basic.py:3092: RuntimeWarning: overflow encountered in exp\n",
      "  return np.exp(x)\n",
      "/usr/local/lib/python3.8/site-packages/pytensor/scalar/basic.py:3092: RuntimeWarning: overflow encountered in exp\n",
      "  return np.exp(x)\n"
     ]
    }
   ],
   "source": [
    "# Iterate through pairs of organisms and antibiotics\n",
    "for org, anti in zip(organisms, antibiotics):\n",
    "\n",
    "    # Extract data for the current pair\n",
    "    X = df[org].values.astype(float)\n",
    "    y = df[anti].replace({'R': 1, 'S': 0}).values\n",
    "    \n",
    "    # Bayesian Linear Regression Model\n",
    "    with pm.Model() as model:\n",
    "        \n",
    "        # Priors\n",
    "        alpha = pm.Normal('alpha', mu=0, sigma=10)\n",
    "        beta = pm.Normal('beta', mu=0, sigma=10)\n",
    "        sigma = pm.HalfNormal('sigma', sigma=1)\n",
    "        \n",
    "        # Likelihood\n",
    "        mu = alpha + beta * X\n",
    "        likelihood = pm.Normal('y', mu=mu, sigma=sigma, observed=y)\n",
    "        \n",
    "        # MCMC\n",
    "        trace = pm.sample(2000, tune=1000)\n",
    "        \n",
    "        # Visualization\n",
    "        # Trace plot\n",
    "        pm.traceplot(trace)\n",
    "        plt.title(f\"Traceplot for {org} vs {anti}\")\n",
    "        plt.show()\n",
    "\n",
    "        # Posterior plot\n",
    "        pm.plot_posterior(trace)\n",
    "        plt.title(f\"Posterior distributions for {org} vs {anti}\")\n",
    "        plt.show()\n",
    "        \n",
    "        # Predictive check\n",
    "        pm.plot_ppc(trace)\n",
    "        plt.title(f\"Predictive check for {org} vs {anti}\")\n",
    "        plt.show()\n"
   ]
  },
  {
   "cell_type": "code",
   "execution_count": null,
   "id": "d8f7d762-63af-43f2-8842-47a744578ffd",
   "metadata": {},
   "outputs": [],
   "source": [
    "# Iterate through pairs of organisms and antibiotics\n",
    "for org, anti in zip(organisms, antibiotics):\n",
    "\n",
    "    # Extract data for the current pair\n",
    "    X = df[org].values\n",
    "    y = df[anti].replace({'R': 1, 'S': 0}).values\n",
    "    \n",
    "    # Bayesian Linear Regression Model\n",
    "    with pm.Model() as model:\n",
    "\n",
    "        # Updated Priors\n",
    "        alpha = pm.Uniform('alpha', lower=-10, upper=10)\n",
    "        beta = pm.Exponential('beta', lam=1)\n",
    "        sigma = pm.HalfCauchy('sigma', beta=2.5)\n",
    "        \n",
    "        # Likelihood\n",
    "        mu = alpha + beta * X\n",
    "        likelihood = pm.Normal('y', mu=mu, sd=sigma, observed=y)\n",
    "        \n",
    "        # MCMC\n",
    "        trace = pm.sample(2000, tune=1000)"
   ]
  }
 ],
 "metadata": {
  "kernelspec": {
   "display_name": "Python 3 (ipykernel)",
   "language": "python",
   "name": "python3"
  },
  "language_info": {
   "codemirror_mode": {
    "name": "ipython",
    "version": 3
   },
   "file_extension": ".py",
   "mimetype": "text/x-python",
   "name": "python",
   "nbconvert_exporter": "python",
   "pygments_lexer": "ipython3",
   "version": "3.8.18"
  }
 },
 "nbformat": 4,
 "nbformat_minor": 5
}
