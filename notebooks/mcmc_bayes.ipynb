{
 "cells": [
  {
   "cell_type": "code",
   "execution_count": 1,
   "id": "4c845f92-0d83-48ea-8b6c-fee9a8fd0a7c",
   "metadata": {},
   "outputs": [],
   "source": [
    "#pip install theano-pymc"
   ]
  },
  {
   "cell_type": "code",
   "execution_count": 2,
   "id": "fa75fd8c-f492-4638-ab77-52d973bb5d5f",
   "metadata": {},
   "outputs": [],
   "source": [
    "#pip uninstall -y theano"
   ]
  },
  {
   "cell_type": "code",
   "execution_count": 3,
   "id": "42497d1f-6183-43c6-a48e-58fec0ed560b",
   "metadata": {},
   "outputs": [],
   "source": [
    "#pip install pymc"
   ]
  },
  {
   "cell_type": "code",
   "execution_count": 19,
   "id": "ac72ecc3-e60e-4c28-b77c-f6da0bcdc140",
   "metadata": {},
   "outputs": [],
   "source": [
    "import sys\n",
    "import pandas as pd\n",
    "import pymc as pm\n",
    "import numpy as np\n",
    "import matplotlib.pyplot as plt\n",
    "\n",
    "sys.path.append('functions')\n",
    "from data_frame_handler import DataFrameHandler as dfh\n",
    "\n",
    "# main path to file with data. Can be easily changed\n",
    "file_path = 'data/urine_test_data.csv'"
   ]
  },
  {
   "cell_type": "markdown",
   "id": "a149b7e6-7364-4465-b7d3-dc9a6a27be76",
   "metadata": {},
   "source": [
    "Step 0: Data prep"
   ]
  },
  {
   "cell_type": "code",
   "execution_count": 5,
   "id": "edc1ce40-8811-4930-8cad-823dc4d32746",
   "metadata": {},
   "outputs": [],
   "source": [
    "df = dfh.read_csv_data(file_path)\n",
    "\n",
    "# Use a list comprehension to dynamically select matching columns\n",
    "organisms = dfh.select_columns_by_search_terms(df, ['organism'])\n",
    "genes = dfh.select_columns_by_search_terms(df, ['gene'])\n",
    "antibiotics = dfh.select_columns_by_search_terms(df, ['antibiotic'])\n",
    "\n",
    "# Set the 'Type' column to the values in gene_data_str - FUTURE Labels\n",
    "gene_data_str = df[genes].applymap(str).agg(''.join, axis=1)\n",
    "df['Type'] = gene_data_str"
   ]
  },
  {
   "cell_type": "code",
   "execution_count": 6,
   "id": "d467175c-90f2-43f5-92ef-22b710b2e531",
   "metadata": {},
   "outputs": [],
   "source": [
    "# Get a colormap based on the number of unique 'Type' values\n",
    "geneset_unique_types = df['Type'].unique()\n",
    "num_unique_types = len(geneset_unique_types)\n",
    "cmap = plt.get_cmap('tab20', num_unique_types)\n",
    "\n",
    "# Create a mapping of 'Type' values to colors\n",
    "type_colors = {type_value: cmap(i) for i, type_value in enumerate(geneset_unique_types)}\n",
    "\n",
    "# Map 'Type' values to colors in a new Series\n",
    "type_colors_series = df['Type'].map(type_colors)"
   ]
  },
  {
   "cell_type": "code",
   "execution_count": 7,
   "id": "76a219b1-f5f4-46ad-b1ec-a07cd816edc0",
   "metadata": {},
   "outputs": [],
   "source": [
    "organisms = dfh.select_columns_by_search_terms(df, ['Organism_1', 'Organism_2', 'Organism_3'] )\n",
    "\n",
    "\n"
   ]
  },
  {
   "cell_type": "code",
   "execution_count": null,
   "id": "baafe9c8-ae0f-46aa-9889-88288eeea99d",
   "metadata": {},
   "outputs": [
    {
     "name": "stderr",
     "output_type": "stream",
     "text": [
      "Auto-assigning NUTS sampler...\n",
      "Initializing NUTS using jitter+adapt_diag...\n",
      "Multiprocess sampling (2 chains in 2 jobs)\n",
      "NUTS: [alpha, beta, sigma]\n"
     ]
    },
    {
     "data": {
      "text/html": [
       "\n",
       "<style>\n",
       "    /* Turns off some styling */\n",
       "    progress {\n",
       "        /* gets rid of default border in Firefox and Opera. */\n",
       "        border: none;\n",
       "        /* Needs to be in here for Safari polyfill so background images work as expected. */\n",
       "        background-size: auto;\n",
       "    }\n",
       "    progress:not([value]), progress:not([value])::-webkit-progress-bar {\n",
       "        background: repeating-linear-gradient(45deg, #7e7e7e, #7e7e7e 10px, #5c5c5c 10px, #5c5c5c 20px);\n",
       "    }\n",
       "    .progress-bar-interrupted, .progress-bar-interrupted::-webkit-progress-bar {\n",
       "        background: #F44336;\n",
       "    }\n",
       "</style>\n"
      ],
      "text/plain": [
       "<IPython.core.display.HTML object>"
      ]
     },
     "metadata": {},
     "output_type": "display_data"
    },
    {
     "data": {
      "text/html": [
       "\n",
       "    <div>\n",
       "      <progress value='46' class='' max='6000' style='width:300px; height:20px; vertical-align: middle;'></progress>\n",
       "      0.77% [46/6000 00:12&lt;25:59 Sampling 2 chains, 0 divergences]\n",
       "    </div>\n",
       "    "
      ],
      "text/plain": [
       "<IPython.core.display.HTML object>"
      ]
     },
     "metadata": {},
     "output_type": "display_data"
    },
    {
     "name": "stderr",
     "output_type": "stream",
     "text": [
      "/usr/local/lib/python3.8/site-packages/pytensor/scalar/basic.py:3092: RuntimeWarning: overflow encountered in exp\n",
      "  return np.exp(x)\n",
      "/usr/local/lib/python3.8/site-packages/pytensor/scalar/basic.py:3092: RuntimeWarning: overflow encountered in exp\n",
      "  return np.exp(x)\n",
      "/usr/local/lib/python3.8/site-packages/pytensor/scalar/basic.py:3198: RuntimeWarning: overflow encountered in scalar multiply\n",
      "  return x * x\n"
     ]
    }
   ],
   "source": [
    "# Iterate through pairs of organisms and antibiotics\n",
    "for org, anti in zip(organisms, antibiotics):\n",
    "\n",
    "    # Extract data for the current pair\n",
    "    X = df[org].values.astype(float)\n",
    "    y = df[anti].replace({'R': 1, 'S': 0}).values\n",
    "    \n",
    "    # Bayesian Linear Regression Model\n",
    "    with pm.Model() as model:\n",
    "        \n",
    "        # Priors\n",
    "        alpha = pm.Normal('alpha', mu=0, sigma=10)\n",
    "        beta = pm.Normal('beta', mu=0, sigma=10)\n",
    "        sigma = pm.HalfNormal('sigma', sigma=1)\n",
    "        \n",
    "        # Likelihood\n",
    "        mu = alpha + beta * X\n",
    "        likelihood = pm.Normal('y', mu=mu, sigma=sigma, observed=y)\n",
    "        \n",
    "        # MCMC\n",
    "        trace = pm.sample(2000, tune=1000)\n",
    "        \n",
    "        # Visualization\n",
    "        # Trace plot\n",
    "        pm.traceplot(trace)\n",
    "        plt.title(f\"Traceplot for {org} vs {anti}\")\n",
    "        plt.show()\n",
    "\n",
    "        # Posterior plot\n",
    "        pm.plot_posterior(trace)\n",
    "        plt.title(f\"Posterior distributions for {org} vs {anti}\")\n",
    "        plt.show()\n",
    "        \n",
    "        # Predictive check\n",
    "        pm.plot_ppc(trace)\n",
    "        plt.title(f\"Predictive check for {org} vs {anti}\")\n",
    "        plt.show()\n"
   ]
  },
  {
   "cell_type": "code",
   "execution_count": 14,
   "id": "d8f7d762-63af-43f2-8842-47a744578ffd",
   "metadata": {},
   "outputs": [
    {
     "ename": "TypeError",
     "evalue": "make_node() got an unexpected keyword argument 'sd'",
     "output_type": "error",
     "traceback": [
      "\u001b[0;31m---------------------------------------------------------------------------\u001b[0m",
      "\u001b[0;31mTypeError\u001b[0m                                 Traceback (most recent call last)",
      "Cell \u001b[0;32mIn[14], line 18\u001b[0m\n\u001b[1;32m     16\u001b[0m \u001b[38;5;66;03m# Likelihood\u001b[39;00m\n\u001b[1;32m     17\u001b[0m mu \u001b[38;5;241m=\u001b[39m alpha \u001b[38;5;241m+\u001b[39m beta \u001b[38;5;241m*\u001b[39m X\n\u001b[0;32m---> 18\u001b[0m likelihood \u001b[38;5;241m=\u001b[39m \u001b[43mpm\u001b[49m\u001b[38;5;241;43m.\u001b[39;49m\u001b[43mNormal\u001b[49m\u001b[43m(\u001b[49m\u001b[38;5;124;43m'\u001b[39;49m\u001b[38;5;124;43my\u001b[39;49m\u001b[38;5;124;43m'\u001b[39;49m\u001b[43m,\u001b[49m\u001b[43m \u001b[49m\u001b[43mmu\u001b[49m\u001b[38;5;241;43m=\u001b[39;49m\u001b[43mmu\u001b[49m\u001b[43m,\u001b[49m\u001b[43m \u001b[49m\u001b[43msd\u001b[49m\u001b[38;5;241;43m=\u001b[39;49m\u001b[43msigma\u001b[49m\u001b[43m,\u001b[49m\u001b[43m \u001b[49m\u001b[43mobserved\u001b[49m\u001b[38;5;241;43m=\u001b[39;49m\u001b[43my\u001b[49m\u001b[43m)\u001b[49m\n\u001b[1;32m     20\u001b[0m \u001b[38;5;66;03m# MCMC\u001b[39;00m\n\u001b[1;32m     21\u001b[0m trace \u001b[38;5;241m=\u001b[39m pm\u001b[38;5;241m.\u001b[39msample(\u001b[38;5;241m2000\u001b[39m, tune\u001b[38;5;241m=\u001b[39m\u001b[38;5;241m1000\u001b[39m)\n",
      "File \u001b[0;32m/usr/local/lib/python3.8/site-packages/pymc/distributions/distribution.py:308\u001b[0m, in \u001b[0;36mDistribution.__new__\u001b[0;34m(cls, name, rng, dims, initval, observed, total_size, transform, *args, **kwargs)\u001b[0m\n\u001b[1;32m    305\u001b[0m     \u001b[38;5;28;01melif\u001b[39;00m observed \u001b[38;5;129;01mis\u001b[39;00m \u001b[38;5;129;01mnot\u001b[39;00m \u001b[38;5;28;01mNone\u001b[39;00m:\n\u001b[1;32m    306\u001b[0m         kwargs[\u001b[38;5;124m\"\u001b[39m\u001b[38;5;124mshape\u001b[39m\u001b[38;5;124m\"\u001b[39m] \u001b[38;5;241m=\u001b[39m \u001b[38;5;28mtuple\u001b[39m(observed\u001b[38;5;241m.\u001b[39mshape)\n\u001b[0;32m--> 308\u001b[0m rv_out \u001b[38;5;241m=\u001b[39m \u001b[38;5;28;43mcls\u001b[39;49m\u001b[38;5;241;43m.\u001b[39;49m\u001b[43mdist\u001b[49m\u001b[43m(\u001b[49m\u001b[38;5;241;43m*\u001b[39;49m\u001b[43margs\u001b[49m\u001b[43m,\u001b[49m\u001b[43m \u001b[49m\u001b[38;5;241;43m*\u001b[39;49m\u001b[38;5;241;43m*\u001b[39;49m\u001b[43mkwargs\u001b[49m\u001b[43m)\u001b[49m\n\u001b[1;32m    310\u001b[0m rv_out \u001b[38;5;241m=\u001b[39m model\u001b[38;5;241m.\u001b[39mregister_rv(\n\u001b[1;32m    311\u001b[0m     rv_out,\n\u001b[1;32m    312\u001b[0m     name,\n\u001b[0;32m   (...)\u001b[0m\n\u001b[1;32m    317\u001b[0m     initval\u001b[38;5;241m=\u001b[39minitval,\n\u001b[1;32m    318\u001b[0m )\n\u001b[1;32m    320\u001b[0m \u001b[38;5;66;03m# add in pretty-printing support\u001b[39;00m\n",
      "File \u001b[0;32m/usr/local/lib/python3.8/site-packages/pymc/distributions/continuous.py:521\u001b[0m, in \u001b[0;36mNormal.dist\u001b[0;34m(cls, mu, sigma, tau, **kwargs)\u001b[0m\n\u001b[1;32m    515\u001b[0m sigma \u001b[38;5;241m=\u001b[39m pt\u001b[38;5;241m.\u001b[39mas_tensor_variable(sigma)\n\u001b[1;32m    517\u001b[0m \u001b[38;5;66;03m# tau = pt.as_tensor_variable(tau)\u001b[39;00m\n\u001b[1;32m    518\u001b[0m \u001b[38;5;66;03m# mean = median = mode = mu = pt.as_tensor_variable(floatX(mu))\u001b[39;00m\n\u001b[1;32m    519\u001b[0m \u001b[38;5;66;03m# variance = 1.0 / self.tau\u001b[39;00m\n\u001b[0;32m--> 521\u001b[0m \u001b[38;5;28;01mreturn\u001b[39;00m \u001b[38;5;28;43msuper\u001b[39;49m\u001b[43m(\u001b[49m\u001b[43m)\u001b[49m\u001b[38;5;241;43m.\u001b[39;49m\u001b[43mdist\u001b[49m\u001b[43m(\u001b[49m\u001b[43m[\u001b[49m\u001b[43mmu\u001b[49m\u001b[43m,\u001b[49m\u001b[43m \u001b[49m\u001b[43msigma\u001b[49m\u001b[43m]\u001b[49m\u001b[43m,\u001b[49m\u001b[43m \u001b[49m\u001b[38;5;241;43m*\u001b[39;49m\u001b[38;5;241;43m*\u001b[39;49m\u001b[43mkwargs\u001b[49m\u001b[43m)\u001b[49m\n",
      "File \u001b[0;32m/usr/local/lib/python3.8/site-packages/pymc/distributions/distribution.py:387\u001b[0m, in \u001b[0;36mDistribution.dist\u001b[0;34m(cls, dist_params, shape, **kwargs)\u001b[0m\n\u001b[1;32m    385\u001b[0m     ndim_supp \u001b[38;5;241m=\u001b[39m \u001b[38;5;28mcls\u001b[39m\u001b[38;5;241m.\u001b[39mrv_op(\u001b[38;5;241m*\u001b[39mdist_params, \u001b[38;5;241m*\u001b[39m\u001b[38;5;241m*\u001b[39mkwargs)\u001b[38;5;241m.\u001b[39mowner\u001b[38;5;241m.\u001b[39mop\u001b[38;5;241m.\u001b[39mndim_supp\n\u001b[1;32m    386\u001b[0m create_size \u001b[38;5;241m=\u001b[39m find_size(shape\u001b[38;5;241m=\u001b[39mshape, size\u001b[38;5;241m=\u001b[39msize, ndim_supp\u001b[38;5;241m=\u001b[39mndim_supp)\n\u001b[0;32m--> 387\u001b[0m rv_out \u001b[38;5;241m=\u001b[39m \u001b[38;5;28;43mcls\u001b[39;49m\u001b[38;5;241;43m.\u001b[39;49m\u001b[43mrv_op\u001b[49m\u001b[43m(\u001b[49m\u001b[38;5;241;43m*\u001b[39;49m\u001b[43mdist_params\u001b[49m\u001b[43m,\u001b[49m\u001b[43m \u001b[49m\u001b[43msize\u001b[49m\u001b[38;5;241;43m=\u001b[39;49m\u001b[43mcreate_size\u001b[49m\u001b[43m,\u001b[49m\u001b[43m \u001b[49m\u001b[38;5;241;43m*\u001b[39;49m\u001b[38;5;241;43m*\u001b[39;49m\u001b[43mkwargs\u001b[49m\u001b[43m)\u001b[49m\n\u001b[1;32m    389\u001b[0m rv_out\u001b[38;5;241m.\u001b[39mlogp \u001b[38;5;241m=\u001b[39m _make_nice_attr_error(\u001b[38;5;124m\"\u001b[39m\u001b[38;5;124mrv.logp(x)\u001b[39m\u001b[38;5;124m\"\u001b[39m, \u001b[38;5;124m\"\u001b[39m\u001b[38;5;124mpm.logp(rv, x)\u001b[39m\u001b[38;5;124m\"\u001b[39m)\n\u001b[1;32m    390\u001b[0m rv_out\u001b[38;5;241m.\u001b[39mlogcdf \u001b[38;5;241m=\u001b[39m _make_nice_attr_error(\u001b[38;5;124m\"\u001b[39m\u001b[38;5;124mrv.logcdf(x)\u001b[39m\u001b[38;5;124m\"\u001b[39m, \u001b[38;5;124m\"\u001b[39m\u001b[38;5;124mpm.logcdf(rv, x)\u001b[39m\u001b[38;5;124m\"\u001b[39m)\n",
      "File \u001b[0;32m/usr/local/lib/python3.8/site-packages/pytensor/tensor/random/basic.py:268\u001b[0m, in \u001b[0;36mNormalRV.__call__\u001b[0;34m(self, loc, scale, size, **kwargs)\u001b[0m\n\u001b[1;32m    247\u001b[0m \u001b[38;5;28;01mdef\u001b[39;00m \u001b[38;5;21m__call__\u001b[39m(\u001b[38;5;28mself\u001b[39m, loc\u001b[38;5;241m=\u001b[39m\u001b[38;5;241m0.0\u001b[39m, scale\u001b[38;5;241m=\u001b[39m\u001b[38;5;241m1.0\u001b[39m, size\u001b[38;5;241m=\u001b[39m\u001b[38;5;28;01mNone\u001b[39;00m, \u001b[38;5;241m*\u001b[39m\u001b[38;5;241m*\u001b[39mkwargs):\n\u001b[1;32m    248\u001b[0m \u001b[38;5;250m    \u001b[39m\u001b[38;5;124mr\u001b[39m\u001b[38;5;124;03m\"\"\"Draw samples from a normal distribution.\u001b[39;00m\n\u001b[1;32m    249\u001b[0m \n\u001b[1;32m    250\u001b[0m \u001b[38;5;124;03m    Signature\u001b[39;00m\n\u001b[0;32m   (...)\u001b[0m\n\u001b[1;32m    266\u001b[0m \n\u001b[1;32m    267\u001b[0m \u001b[38;5;124;03m    \"\"\"\u001b[39;00m\n\u001b[0;32m--> 268\u001b[0m     \u001b[38;5;28;01mreturn\u001b[39;00m \u001b[38;5;28;43msuper\u001b[39;49m\u001b[43m(\u001b[49m\u001b[43m)\u001b[49m\u001b[38;5;241;43m.\u001b[39;49m\u001b[38;5;21;43m__call__\u001b[39;49m\u001b[43m(\u001b[49m\u001b[43mloc\u001b[49m\u001b[43m,\u001b[49m\u001b[43m \u001b[49m\u001b[43mscale\u001b[49m\u001b[43m,\u001b[49m\u001b[43m \u001b[49m\u001b[43msize\u001b[49m\u001b[38;5;241;43m=\u001b[39;49m\u001b[43msize\u001b[49m\u001b[43m,\u001b[49m\u001b[43m \u001b[49m\u001b[38;5;241;43m*\u001b[39;49m\u001b[38;5;241;43m*\u001b[39;49m\u001b[43mkwargs\u001b[49m\u001b[43m)\u001b[49m\n",
      "File \u001b[0;32m/usr/local/lib/python3.8/site-packages/pytensor/tensor/random/op.py:289\u001b[0m, in \u001b[0;36mRandomVariable.__call__\u001b[0;34m(self, size, name, rng, dtype, *args, **kwargs)\u001b[0m\n\u001b[1;32m    288\u001b[0m \u001b[38;5;28;01mdef\u001b[39;00m \u001b[38;5;21m__call__\u001b[39m(\u001b[38;5;28mself\u001b[39m, \u001b[38;5;241m*\u001b[39margs, size\u001b[38;5;241m=\u001b[39m\u001b[38;5;28;01mNone\u001b[39;00m, name\u001b[38;5;241m=\u001b[39m\u001b[38;5;28;01mNone\u001b[39;00m, rng\u001b[38;5;241m=\u001b[39m\u001b[38;5;28;01mNone\u001b[39;00m, dtype\u001b[38;5;241m=\u001b[39m\u001b[38;5;28;01mNone\u001b[39;00m, \u001b[38;5;241m*\u001b[39m\u001b[38;5;241m*\u001b[39mkwargs):\n\u001b[0;32m--> 289\u001b[0m     res \u001b[38;5;241m=\u001b[39m \u001b[38;5;28;43msuper\u001b[39;49m\u001b[43m(\u001b[49m\u001b[43m)\u001b[49m\u001b[38;5;241;43m.\u001b[39;49m\u001b[38;5;21;43m__call__\u001b[39;49m\u001b[43m(\u001b[49m\u001b[43mrng\u001b[49m\u001b[43m,\u001b[49m\u001b[43m \u001b[49m\u001b[43msize\u001b[49m\u001b[43m,\u001b[49m\u001b[43m \u001b[49m\u001b[43mdtype\u001b[49m\u001b[43m,\u001b[49m\u001b[43m \u001b[49m\u001b[38;5;241;43m*\u001b[39;49m\u001b[43margs\u001b[49m\u001b[43m,\u001b[49m\u001b[43m \u001b[49m\u001b[38;5;241;43m*\u001b[39;49m\u001b[38;5;241;43m*\u001b[39;49m\u001b[43mkwargs\u001b[49m\u001b[43m)\u001b[49m\n\u001b[1;32m    291\u001b[0m     \u001b[38;5;28;01mif\u001b[39;00m name \u001b[38;5;129;01mis\u001b[39;00m \u001b[38;5;129;01mnot\u001b[39;00m \u001b[38;5;28;01mNone\u001b[39;00m:\n\u001b[1;32m    292\u001b[0m         res\u001b[38;5;241m.\u001b[39mname \u001b[38;5;241m=\u001b[39m name\n",
      "File \u001b[0;32m/usr/local/lib/python3.8/site-packages/pytensor/graph/op.py:295\u001b[0m, in \u001b[0;36mOp.__call__\u001b[0;34m(self, *inputs, **kwargs)\u001b[0m\n\u001b[1;32m    253\u001b[0m \u001b[38;5;250m\u001b[39m\u001b[38;5;124mr\u001b[39m\u001b[38;5;124;03m\"\"\"Construct an `Apply` node using :meth:`Op.make_node` and return its outputs.\u001b[39;00m\n\u001b[1;32m    254\u001b[0m \n\u001b[1;32m    255\u001b[0m \u001b[38;5;124;03mThis method is just a wrapper around :meth:`Op.make_node`.\u001b[39;00m\n\u001b[0;32m   (...)\u001b[0m\n\u001b[1;32m    292\u001b[0m \n\u001b[1;32m    293\u001b[0m \u001b[38;5;124;03m\"\"\"\u001b[39;00m\n\u001b[1;32m    294\u001b[0m return_list \u001b[38;5;241m=\u001b[39m kwargs\u001b[38;5;241m.\u001b[39mpop(\u001b[38;5;124m\"\u001b[39m\u001b[38;5;124mreturn_list\u001b[39m\u001b[38;5;124m\"\u001b[39m, \u001b[38;5;28;01mFalse\u001b[39;00m)\n\u001b[0;32m--> 295\u001b[0m node \u001b[38;5;241m=\u001b[39m \u001b[38;5;28;43mself\u001b[39;49m\u001b[38;5;241;43m.\u001b[39;49m\u001b[43mmake_node\u001b[49m\u001b[43m(\u001b[49m\u001b[38;5;241;43m*\u001b[39;49m\u001b[43minputs\u001b[49m\u001b[43m,\u001b[49m\u001b[43m \u001b[49m\u001b[38;5;241;43m*\u001b[39;49m\u001b[38;5;241;43m*\u001b[39;49m\u001b[43mkwargs\u001b[49m\u001b[43m)\u001b[49m\n\u001b[1;32m    297\u001b[0m \u001b[38;5;28;01mif\u001b[39;00m config\u001b[38;5;241m.\u001b[39mcompute_test_value \u001b[38;5;241m!=\u001b[39m \u001b[38;5;124m\"\u001b[39m\u001b[38;5;124moff\u001b[39m\u001b[38;5;124m\"\u001b[39m:\n\u001b[1;32m    298\u001b[0m     compute_test_value(node)\n",
      "\u001b[0;31mTypeError\u001b[0m: make_node() got an unexpected keyword argument 'sd'"
     ]
    }
   ],
   "source": [
    "# Iterate through pairs of organisms and antibiotics\n",
    "for org, anti in zip(organisms, antibiotics):\n",
    "\n",
    "    # Extract data for the current pair\n",
    "    X = df[org].values\n",
    "    y = df[anti].replace({'R': 1, 'S': 0}).values\n",
    "    \n",
    "    # Bayesian Linear Regression Model\n",
    "    with pm.Model() as model:\n",
    "\n",
    "        # Updated Priors\n",
    "        alpha = pm.Uniform('alpha', lower=-10, upper=10)\n",
    "        beta = pm.Exponential('beta', lam=1)\n",
    "        sigma = pm.HalfCauchy('sigma', beta=2.5)\n",
    "        \n",
    "        # Likelihood\n",
    "        mu = alpha + beta * X\n",
    "        likelihood = pm.Normal('y', mu=mu, sd=sigma, observed=y)\n",
    "        \n",
    "        # MCMC\n",
    "        trace = pm.sample(2000, tune=1000)"
   ]
  }
 ],
 "metadata": {
  "kernelspec": {
   "display_name": "Python 3 (ipykernel)",
   "language": "python",
   "name": "python3"
  },
  "language_info": {
   "codemirror_mode": {
    "name": "ipython",
    "version": 3
   },
   "file_extension": ".py",
   "mimetype": "text/x-python",
   "name": "python",
   "nbconvert_exporter": "python",
   "pygments_lexer": "ipython3",
   "version": "3.8.18"
  }
 },
 "nbformat": 4,
 "nbformat_minor": 5
}
