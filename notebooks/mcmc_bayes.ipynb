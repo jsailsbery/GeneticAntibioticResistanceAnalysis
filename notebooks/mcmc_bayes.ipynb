{
 "cells": [
  {
   "cell_type": "code",
   "execution_count": 7,
   "id": "4c845f92-0d83-48ea-8b6c-fee9a8fd0a7c",
   "metadata": {},
   "outputs": [
    {
     "name": "stdout",
     "output_type": "stream",
     "text": [
      "Requirement already satisfied: theano-pymc in /usr/local/lib/python3.8/site-packages (1.1.2)\n",
      "Requirement already satisfied: filelock in /usr/local/lib/python3.8/site-packages (from theano-pymc) (3.12.4)\n",
      "Requirement already satisfied: numpy>=1.9.1 in /usr/local/lib/python3.8/site-packages (from theano-pymc) (1.22.1)\n",
      "Requirement already satisfied: scipy>=0.14 in /usr/local/lib/python3.8/site-packages (from theano-pymc) (1.7.3)\n",
      "\u001b[33mWARNING: Running pip as the 'root' user can result in broken permissions and conflicting behaviour with the system package manager. It is recommended to use a virtual environment instead: https://pip.pypa.io/warnings/venv\u001b[0m\u001b[33m\n",
      "\u001b[0m\n",
      "\u001b[1m[\u001b[0m\u001b[34;49mnotice\u001b[0m\u001b[1;39;49m]\u001b[0m\u001b[39;49m A new release of pip is available: \u001b[0m\u001b[31;49m23.0.1\u001b[0m\u001b[39;49m -> \u001b[0m\u001b[32;49m23.2.1\u001b[0m\n",
      "\u001b[1m[\u001b[0m\u001b[34;49mnotice\u001b[0m\u001b[1;39;49m]\u001b[0m\u001b[39;49m To update, run: \u001b[0m\u001b[32;49mpip install --upgrade pip\u001b[0m\n",
      "Note: you may need to restart the kernel to use updated packages.\n"
     ]
    }
   ],
   "source": [
    "pip install theano-pymc"
   ]
  },
  {
   "cell_type": "code",
   "execution_count": 6,
   "id": "fa75fd8c-f492-4638-ab77-52d973bb5d5f",
   "metadata": {},
   "outputs": [
    {
     "name": "stdout",
     "output_type": "stream",
     "text": [
      "\u001b[33mWARNING: Skipping theano as it is not installed.\u001b[0m\u001b[33m\n",
      "\u001b[0m\u001b[33mWARNING: Running pip as the 'root' user can result in broken permissions and conflicting behaviour with the system package manager. It is recommended to use a virtual environment instead: https://pip.pypa.io/warnings/venv\u001b[0m\u001b[33m\n",
      "\u001b[0mNote: you may need to restart the kernel to use updated packages.\n"
     ]
    }
   ],
   "source": [
    "pip uninstall -y theano"
   ]
  },
  {
   "cell_type": "code",
   "execution_count": 8,
   "id": "42497d1f-6183-43c6-a48e-58fec0ed560b",
   "metadata": {},
   "outputs": [
    {
     "name": "stdout",
     "output_type": "stream",
     "text": [
      "Requirement already satisfied: pymc3 in /usr/local/lib/python3.8/site-packages (3.11.5)\n",
      "Requirement already satisfied: arviz>=0.11.0 in /usr/local/lib/python3.8/site-packages (from pymc3) (0.12.1)\n",
      "Requirement already satisfied: pandas>=0.24.0 in /usr/local/lib/python3.8/site-packages (from pymc3) (2.0.3)\n",
      "Requirement already satisfied: scipy<1.8.0,>=1.7.3 in /usr/local/lib/python3.8/site-packages (from pymc3) (1.7.3)\n",
      "Requirement already satisfied: patsy>=0.5.1 in /usr/local/lib/python3.8/site-packages (from pymc3) (0.5.3)\n",
      "Requirement already satisfied: fastprogress>=0.2.0 in /usr/local/lib/python3.8/site-packages (from pymc3) (1.0.3)\n",
      "Requirement already satisfied: numpy<1.22.2,>=1.15.0 in /usr/local/lib/python3.8/site-packages (from pymc3) (1.22.1)\n",
      "Requirement already satisfied: dill in /usr/local/lib/python3.8/site-packages (from pymc3) (0.3.7)\n",
      "Requirement already satisfied: theano-pymc==1.1.2 in /usr/local/lib/python3.8/site-packages (from pymc3) (1.1.2)\n",
      "Requirement already satisfied: typing-extensions>=3.7.4 in /usr/local/lib/python3.8/site-packages (from pymc3) (4.5.0)\n",
      "Requirement already satisfied: deprecat in /usr/local/lib/python3.8/site-packages (from pymc3) (2.1.1)\n",
      "Requirement already satisfied: semver>=2.13.0 in /usr/local/lib/python3.8/site-packages (from pymc3) (3.0.1)\n",
      "Requirement already satisfied: cachetools>=4.2.1 in /usr/local/lib/python3.8/site-packages (from pymc3) (5.3.1)\n",
      "Requirement already satisfied: filelock in /usr/local/lib/python3.8/site-packages (from theano-pymc==1.1.2->pymc3) (3.12.4)\n",
      "Requirement already satisfied: packaging in /usr/local/lib/python3.8/site-packages (from arviz>=0.11.0->pymc3) (23.1)\n",
      "Requirement already satisfied: xarray>=0.16.1 in /usr/local/lib/python3.8/site-packages (from arviz>=0.11.0->pymc3) (2023.1.0)\n",
      "Requirement already satisfied: setuptools>=38.4 in /usr/local/lib/python3.8/site-packages (from arviz>=0.11.0->pymc3) (57.5.0)\n",
      "Requirement already satisfied: netcdf4 in /usr/local/lib/python3.8/site-packages (from arviz>=0.11.0->pymc3) (1.6.4)\n",
      "Requirement already satisfied: matplotlib>=3.0 in /usr/local/lib/python3.8/site-packages (from arviz>=0.11.0->pymc3) (3.7.3)\n",
      "Requirement already satisfied: xarray-einstats>=0.2 in /usr/local/lib/python3.8/site-packages (from arviz>=0.11.0->pymc3) (0.5.1)\n",
      "Requirement already satisfied: tzdata>=2022.1 in /usr/local/lib/python3.8/site-packages (from pandas>=0.24.0->pymc3) (2023.3)\n",
      "Requirement already satisfied: pytz>=2020.1 in /usr/local/lib/python3.8/site-packages (from pandas>=0.24.0->pymc3) (2023.3.post1)\n",
      "Requirement already satisfied: python-dateutil>=2.8.2 in /usr/local/lib/python3.8/site-packages (from pandas>=0.24.0->pymc3) (2.8.2)\n",
      "Requirement already satisfied: six in /usr/local/lib/python3.8/site-packages (from patsy>=0.5.1->pymc3) (1.16.0)\n",
      "Requirement already satisfied: wrapt<2,>=1.10 in /usr/local/lib/python3.8/site-packages (from deprecat->pymc3) (1.15.0)\n",
      "Requirement already satisfied: contourpy>=1.0.1 in /usr/local/lib/python3.8/site-packages (from matplotlib>=3.0->arviz>=0.11.0->pymc3) (1.1.0)\n",
      "Requirement already satisfied: kiwisolver>=1.0.1 in /usr/local/lib/python3.8/site-packages (from matplotlib>=3.0->arviz>=0.11.0->pymc3) (1.4.5)\n",
      "Requirement already satisfied: pyparsing>=2.3.1 in /usr/local/lib/python3.8/site-packages (from matplotlib>=3.0->arviz>=0.11.0->pymc3) (3.1.1)\n",
      "Requirement already satisfied: cycler>=0.10 in /usr/local/lib/python3.8/site-packages (from matplotlib>=3.0->arviz>=0.11.0->pymc3) (0.11.0)\n",
      "Requirement already satisfied: pillow>=6.2.0 in /usr/local/lib/python3.8/site-packages (from matplotlib>=3.0->arviz>=0.11.0->pymc3) (10.0.0)\n",
      "Requirement already satisfied: fonttools>=4.22.0 in /usr/local/lib/python3.8/site-packages (from matplotlib>=3.0->arviz>=0.11.0->pymc3) (4.42.1)\n",
      "Requirement already satisfied: importlib-resources>=3.2.0 in /usr/local/lib/python3.8/site-packages (from matplotlib>=3.0->arviz>=0.11.0->pymc3) (6.0.1)\n",
      "Requirement already satisfied: cftime in /usr/local/lib/python3.8/site-packages (from netcdf4->arviz>=0.11.0->pymc3) (1.6.2)\n",
      "Requirement already satisfied: certifi in /usr/local/lib/python3.8/site-packages (from netcdf4->arviz>=0.11.0->pymc3) (2023.7.22)\n",
      "Requirement already satisfied: zipp>=3.1.0 in /usr/local/lib/python3.8/site-packages (from importlib-resources>=3.2.0->matplotlib>=3.0->arviz>=0.11.0->pymc3) (3.16.2)\n",
      "\u001b[33mWARNING: Running pip as the 'root' user can result in broken permissions and conflicting behaviour with the system package manager. It is recommended to use a virtual environment instead: https://pip.pypa.io/warnings/venv\u001b[0m\u001b[33m\n",
      "\u001b[0m\n",
      "\u001b[1m[\u001b[0m\u001b[34;49mnotice\u001b[0m\u001b[1;39;49m]\u001b[0m\u001b[39;49m A new release of pip is available: \u001b[0m\u001b[31;49m23.0.1\u001b[0m\u001b[39;49m -> \u001b[0m\u001b[32;49m23.2.1\u001b[0m\n",
      "\u001b[1m[\u001b[0m\u001b[34;49mnotice\u001b[0m\u001b[1;39;49m]\u001b[0m\u001b[39;49m To update, run: \u001b[0m\u001b[32;49mpip install --upgrade pip\u001b[0m\n",
      "Note: you may need to restart the kernel to use updated packages.\n"
     ]
    }
   ],
   "source": [
    "pip install pymc3"
   ]
  },
  {
   "cell_type": "code",
   "execution_count": 9,
   "id": "ac72ecc3-e60e-4c28-b77c-f6da0bcdc140",
   "metadata": {},
   "outputs": [
    {
     "name": "stdout",
     "output_type": "stream",
     "text": [
      "!!!!!!!!!!!!!!!!!!!!!!!!!!!!!!!!!!!!!!!!!!!!!!!!!!!!!!!!!!!!\n",
      "The imported Theano(-PyMC) module is broken.\n",
      "It was imported from _NamespacePath(['/usr/local/lib/python3.8/site-packages/theano'])\n",
      "Try to uninstall/reinstall it after closing all active sessions/notebooks.\n",
      "Also see https://github.com/pymc-devs/pymc3/wiki for installation instructions.\n",
      "!!!!!!!!!!!!!!!!!!!!!!!!!!!!!!!!!!!!!!!!!!!!!!!!!!!!!!!!!!!!\n"
     ]
    },
    {
     "ename": "AttributeError",
     "evalue": "module 'theano' has no attribute 'config'",
     "output_type": "error",
     "traceback": [
      "\u001b[0;31m---------------------------------------------------------------------------\u001b[0m",
      "\u001b[0;31mAttributeError\u001b[0m                            Traceback (most recent call last)",
      "Cell \u001b[0;32mIn[9], line 3\u001b[0m\n\u001b[1;32m      1\u001b[0m \u001b[38;5;28;01mimport\u001b[39;00m \u001b[38;5;21;01msys\u001b[39;00m\n\u001b[1;32m      2\u001b[0m \u001b[38;5;28;01mimport\u001b[39;00m \u001b[38;5;21;01mpandas\u001b[39;00m \u001b[38;5;28;01mas\u001b[39;00m \u001b[38;5;21;01mpd\u001b[39;00m\n\u001b[0;32m----> 3\u001b[0m \u001b[38;5;28;01mimport\u001b[39;00m \u001b[38;5;21;01mpymc3\u001b[39;00m \u001b[38;5;28;01mas\u001b[39;00m \u001b[38;5;21;01mpm\u001b[39;00m\n\u001b[1;32m      5\u001b[0m sys\u001b[38;5;241m.\u001b[39mpath\u001b[38;5;241m.\u001b[39mappend(\u001b[38;5;124m'\u001b[39m\u001b[38;5;124mfunctions\u001b[39m\u001b[38;5;124m'\u001b[39m)\n\u001b[1;32m      6\u001b[0m \u001b[38;5;28;01mfrom\u001b[39;00m \u001b[38;5;21;01mdata_frame_handler\u001b[39;00m \u001b[38;5;28;01mimport\u001b[39;00m DataFrameHandler \u001b[38;5;28;01mas\u001b[39;00m dfh\n",
      "File \u001b[0;32m/usr/local/lib/python3.8/site-packages/pymc3/__init__.py:112\u001b[0m\n\u001b[1;32m    108\u001b[0m         \u001b[38;5;28;01mpass\u001b[39;00m\n\u001b[1;32m    111\u001b[0m _check_backend_version()\n\u001b[0;32m--> 112\u001b[0m \u001b[43m__set_compiler_flags\u001b[49m\u001b[43m(\u001b[49m\u001b[43m)\u001b[49m\n\u001b[1;32m    113\u001b[0m _hotfix_theano_printing()\n\u001b[1;32m    115\u001b[0m \u001b[38;5;28;01mfrom\u001b[39;00m \u001b[38;5;21;01mpymc3\u001b[39;00m \u001b[38;5;28;01mimport\u001b[39;00m gp, ode, sampling\n",
      "File \u001b[0;32m/usr/local/lib/python3.8/site-packages/pymc3/__init__.py:83\u001b[0m, in \u001b[0;36m__set_compiler_flags\u001b[0;34m()\u001b[0m\n\u001b[1;32m     81\u001b[0m \u001b[38;5;28;01mdef\u001b[39;00m \u001b[38;5;21m__set_compiler_flags\u001b[39m():\n\u001b[1;32m     82\u001b[0m     \u001b[38;5;66;03m# Workarounds for Theano compiler problems on various platforms\u001b[39;00m\n\u001b[0;32m---> 83\u001b[0m     current \u001b[38;5;241m=\u001b[39m \u001b[43mtheano\u001b[49m\u001b[38;5;241;43m.\u001b[39;49m\u001b[43mconfig\u001b[49m\u001b[38;5;241m.\u001b[39mgcc__cxxflags\n\u001b[1;32m     84\u001b[0m     augmented \u001b[38;5;241m=\u001b[39m \u001b[38;5;124mf\u001b[39m\u001b[38;5;124m\"\u001b[39m\u001b[38;5;132;01m{\u001b[39;00mcurrent\u001b[38;5;132;01m}\u001b[39;00m\u001b[38;5;124m -Wno-c++11-narrowing\u001b[39m\u001b[38;5;124m\"\u001b[39m\n\u001b[1;32m     86\u001b[0m     \u001b[38;5;66;03m# Work around compiler bug in GCC < 8.4 related to structured exception\u001b[39;00m\n\u001b[1;32m     87\u001b[0m     \u001b[38;5;66;03m# handling registers on Windows.\u001b[39;00m\n\u001b[1;32m     88\u001b[0m     \u001b[38;5;66;03m# See https://gcc.gnu.org/bugzilla/show_bug.cgi?id=65782 for details.\u001b[39;00m\n\u001b[1;32m     89\u001b[0m     \u001b[38;5;66;03m# First disable C++ exception handling altogether since it's not needed\u001b[39;00m\n\u001b[1;32m     90\u001b[0m     \u001b[38;5;66;03m# for the C extensions that we generate.\u001b[39;00m\n",
      "\u001b[0;31mAttributeError\u001b[0m: module 'theano' has no attribute 'config'"
     ]
    }
   ],
   "source": [
    "import sys\n",
    "import pandas as pd\n",
    "import pymc3 as pm\n",
    "\n",
    "sys.path.append('functions')\n",
    "from data_frame_handler import DataFrameHandler as dfh\n",
    "\n",
    "# main path to file with data. Can be easily changed\n",
    "file_path = 'data/urine_test_data.csv'"
   ]
  },
  {
   "cell_type": "markdown",
   "id": "a149b7e6-7364-4465-b7d3-dc9a6a27be76",
   "metadata": {},
   "source": [
    "Step 0: Data prep"
   ]
  },
  {
   "cell_type": "code",
   "execution_count": null,
   "id": "edc1ce40-8811-4930-8cad-823dc4d32746",
   "metadata": {},
   "outputs": [],
   "source": [
    "df = dfh.read_csv_data(file_path)\n",
    "\n",
    "# Use a list comprehension to dynamically select matching columns\n",
    "organisms = dfh.select_columns_by_search_terms(df, ['organism'])\n",
    "genes = dfh.select_columns_by_search_terms(df, ['gene'])\n",
    "antibiotics = dfh.select_columns_by_search_terms(df, ['antibiotic'])\n",
    "\n",
    "# Set the 'Type' column to the values in gene_data_str - FUTURE Labels\n",
    "gene_data_str = df[genes].applymap(str).agg(''.join, axis=1)\n",
    "df['Type'] = gene_data_str"
   ]
  },
  {
   "cell_type": "code",
   "execution_count": null,
   "id": "d467175c-90f2-43f5-92ef-22b710b2e531",
   "metadata": {},
   "outputs": [],
   "source": [
    "# Get a colormap based on the number of unique 'Type' values\n",
    "geneset_unique_types = df['Type'].unique()\n",
    "num_unique_types = len(geneset_unique_types)\n",
    "cmap = plt.get_cmap('tab20', num_unique_types)\n",
    "\n",
    "# Create a mapping of 'Type' values to colors\n",
    "type_colors = {type_value: cmap(i) for i, type_value in enumerate(geneset_unique_types)}\n",
    "\n",
    "# Map 'Type' values to colors in a new Series\n",
    "type_colors_series = df['Type'].map(type_colors)"
   ]
  },
  {
   "cell_type": "code",
   "execution_count": null,
   "id": "76a219b1-f5f4-46ad-b1ec-a07cd816edc0",
   "metadata": {},
   "outputs": [],
   "source": [
    "organisms = dfh.select_columns_by_search_terms(df, ['Organism_1', 'Organism_2', 'Organism_3'] )"
   ]
  }
 ],
 "metadata": {
  "kernelspec": {
   "display_name": "Python 3 (ipykernel)",
   "language": "python",
   "name": "python3"
  },
  "language_info": {
   "codemirror_mode": {
    "name": "ipython",
    "version": 3
   },
   "file_extension": ".py",
   "mimetype": "text/x-python",
   "name": "python",
   "nbconvert_exporter": "python",
   "pygments_lexer": "ipython3",
   "version": "3.8.18"
  }
 },
 "nbformat": 4,
 "nbformat_minor": 5
}
